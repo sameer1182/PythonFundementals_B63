{
 "cells": [
  {
   "cell_type": "code",
   "execution_count": 1,
   "id": "e443d403-e078-4af4-bfd5-fffa3291a3df",
   "metadata": {},
   "outputs": [
    {
     "ename": "SyntaxError",
     "evalue": "Missing parentheses in call to 'print'. Did you mean print(\" hi Sir , Thank you for dedication\")? (1005680798.py, line 1)",
     "output_type": "error",
     "traceback": [
      "\u001b[1;36m  Input \u001b[1;32mIn [1]\u001b[1;36m\u001b[0m\n\u001b[1;33m    print \" hi Sir , Thank you for dedication\"\u001b[0m\n\u001b[1;37m          ^\u001b[0m\n\u001b[1;31mSyntaxError\u001b[0m\u001b[1;31m:\u001b[0m Missing parentheses in call to 'print'. Did you mean print(\" hi Sir , Thank you for dedication\")?\n"
     ]
    }
   ],
   "source": [
    "print \" hi Sir , Thank you for dedication\" \n"
   ]
  },
  {
   "cell_type": "code",
   "execution_count": 2,
   "id": "cdf8a329-726c-48c4-8964-be06d400132a",
   "metadata": {},
   "outputs": [
    {
     "ename": "SyntaxError",
     "evalue": "Missing parentheses in call to 'print'. Did you mean print(\"hi Sir , Thank you for dedication\")? (563079493.py, line 1)",
     "output_type": "error",
     "traceback": [
      "\u001b[1;36m  Input \u001b[1;32mIn [2]\u001b[1;36m\u001b[0m\n\u001b[1;33m    print \"hi Sir , Thank you for dedication\"\u001b[0m\n\u001b[1;37m          ^\u001b[0m\n\u001b[1;31mSyntaxError\u001b[0m\u001b[1;31m:\u001b[0m Missing parentheses in call to 'print'. Did you mean print(\"hi Sir , Thank you for dedication\")?\n"
     ]
    }
   ],
   "source": [
    "print \"hi Sir , Thank you for dedication\" \n"
   ]
  },
  {
   "cell_type": "code",
   "execution_count": 3,
   "id": "b16c51ba-9994-455a-9019-631e66f723c7",
   "metadata": {},
   "outputs": [
    {
     "name": "stdout",
     "output_type": "stream",
     "text": [
      "hi Sir , Thank you for dedication\n"
     ]
    }
   ],
   "source": [
    "print (\"hi Sir , Thank you for dedication\" )\n"
   ]
  },
  {
   "cell_type": "code",
   "execution_count": null,
   "id": "63cc6c2a-83a5-44d9-812c-bc22a61d8f00",
   "metadata": {},
   "outputs": [],
   "source": []
  }
 ],
 "metadata": {
  "kernelspec": {
   "display_name": "Python 3 (ipykernel)",
   "language": "python",
   "name": "python3"
  },
  "language_info": {
   "codemirror_mode": {
    "name": "ipython",
    "version": 3
   },
   "file_extension": ".py",
   "mimetype": "text/x-python",
   "name": "python",
   "nbconvert_exporter": "python",
   "pygments_lexer": "ipython3",
   "version": "3.9.12"
  }
 },
 "nbformat": 4,
 "nbformat_minor": 5
}
